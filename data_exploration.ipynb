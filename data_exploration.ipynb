{
 "cells": [
  {
   "cell_type": "code",
   "execution_count": 1,
   "metadata": {},
   "outputs": [],
   "source": [
    "# Intentar hacer que no haga falta que quien corra el notebook se descargue antes los datos\n",
    "# Que se descarguen en la misma ubicación donde esté el notebook\n",
    "# Leer solo los archivos '*.csv'\n",
    "# Append de todos los ficheros\n",
    "# Valorar si leer los archivos horarios o diarios (según tamaño)\n",
    "# más interesante datos en tiempo real, para ver patrones de comportamiento a lo largo del día, fin de semana...\n",
    "# pandas, matplotlib"
   ]
  },
  {
   "cell_type": "code",
   "execution_count": null,
   "metadata": {},
   "outputs": [],
   "source": []
  }
 ],
 "metadata": {
  "kernelspec": {
   "display_name": "Python 3",
   "language": "python",
   "name": "python3"
  },
  "language_info": {
   "codemirror_mode": {
    "name": "ipython",
    "version": 3
   },
   "file_extension": ".py",
   "mimetype": "text/x-python",
   "name": "python",
   "nbconvert_exporter": "python",
   "pygments_lexer": "ipython3",
   "version": "3.7.4"
  }
 },
 "nbformat": 4,
 "nbformat_minor": 2
}
