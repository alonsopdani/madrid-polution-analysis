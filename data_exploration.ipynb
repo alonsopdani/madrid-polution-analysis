{
 "cells": [
  {
   "cell_type": "code",
   "execution_count": 1,
   "metadata": {},
   "outputs": [],
   "source": [
    "# Intentar hacer que no haga falta que quien corra el notebook se descargue antes los datos\n",
    "# Que se descarguen en la misma ubicación donde esté el notebook\n",
    "# Leer solo los archivos '*.csv'\n",
    "# Append de todos los ficheros\n",
    "# Valorar si leer los archivos horarios o diarios (según tamaño)\n",
    "# más interesante datos en tiempo real, para ver patrones de comportamiento a lo largo del día, fin de semana...\n",
    "# pandas, matplotlib\n",
    "# función para coger un csv, eliminar líneas que no interesen y convertirlo en un df\n",
    "# usar esa función dentro de otra que haga un append de un número ilimitado de dfs"
   ]
  },
  {
   "cell_type": "code",
   "execution_count": 3,
   "metadata": {},
   "outputs": [],
   "source": [
    "import requests"
   ]
  },
  {
   "cell_type": "code",
   "execution_count": 5,
   "metadata": {},
   "outputs": [
    {
     "data": {
      "text/plain": [
       "3262"
      ]
     },
     "execution_count": 5,
     "metadata": {},
     "output_type": "execute_result"
    }
   ],
   "source": [
    "# First, I am going to download the data\n",
    "\n",
    "url = 'https://datos.madrid.es/portal/site/egob/menuitem.c05c1f754a33a9fbe4b2e4b284f1a5a0/?vgnextoid=f3c0f7d512273410VgnVCM2000000c205a0aRCRD&vgnextchannel=374512b9ace9f310VgnVCM100000171f5a0aRCRD&vgnextfmt=default'\n",
    "myfile = requests.get(url)\n",
    "open('data.zip', 'wb').write(myfile.content)"
   ]
  },
  {
   "cell_type": "code",
   "execution_count": null,
   "metadata": {},
   "outputs": [],
   "source": []
  }
 ],
 "metadata": {
  "kernelspec": {
   "display_name": "Python 3",
   "language": "python",
   "name": "python3"
  },
  "language_info": {
   "codemirror_mode": {
    "name": "ipython",
    "version": 3
   },
   "file_extension": ".py",
   "mimetype": "text/x-python",
   "name": "python",
   "nbconvert_exporter": "python",
   "pygments_lexer": "ipython3",
   "version": "3.7.4"
  }
 },
 "nbformat": 4,
 "nbformat_minor": 2
}
